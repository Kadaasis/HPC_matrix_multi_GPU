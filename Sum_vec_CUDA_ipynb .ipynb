{
  "nbformat": 4,
  "nbformat_minor": 0,
  "metadata": {
    "colab": {
      "name": "Sum_vec_CUDA.ipynb\"",
      "provenance": [],
      "collapsed_sections": []
    },
    "kernelspec": {
      "name": "python3",
      "display_name": "Python 3"
    },
    "language_info": {
      "name": "python"
    },
    "accelerator": "GPU"
  },
  "cells": [
    {
      "cell_type": "code",
      "metadata": {
        "colab": {
          "base_uri": "https://localhost:8080/"
        },
        "id": "7dr7diPRPMXa",
        "outputId": "cb600b44-8f14-4104-cdd8-291390e3e79e"
      },
      "source": [
        "from numba import njit, jit, int32, cuda\n",
        "import numba\n",
        "import numpy as np\n",
        "import time\n",
        "from time import time\n",
        "from matplotlib import pyplot as plt\n",
        "import pandas as pd\n",
        "import timeit\n",
        "\n",
        "x1 = 1_000\n",
        "x2 = 10_000\n",
        "x3 = 100_000\n",
        "x4 = 1_000_000\n",
        "\n",
        "x =[x1, x2, x3, x4]\n",
        "\n",
        "v1 = np.random.random_integers(0, 10, x1)\n",
        "v2 = np.random.random_integers(0, 10, x2)\n",
        "v3 = np.random.random_integers(0, 10, x3)\n",
        "v4 = np.random.random_integers(0, 10, x4)\n",
        "k = [v1, v2, v3, v4]\n",
        "\n",
        "c1 = np.zeros(1, dtype = np.int32)\n",
        "\n",
        "time_cpu = []\n",
        "\n",
        "for i in k:\n",
        "  print('k =', i.shape)\n",
        "  start_time = timeit.default_timer() \n",
        "  m1 = i.sum()\n",
        "  cpu_finish_time = timeit.default_timer() - start_time\n",
        "  time_cpu.append(cpu_finish_time) \n",
        "  print(m1, cpu_finish_time)\n",
        "  #lines = plt.plot(m, time_cpu, '-go', x2, y2, 's:m')\n",
        "  #plt.plot(m, time_cpu, ':o')\n",
        "  print('sum'.center(80, '-'))\n"
      ],
      "execution_count": 1,
      "outputs": [
        {
          "output_type": "stream",
          "name": "stdout",
          "text": [
            "k = (1000,)\n",
            "5184 5.211799999926825e-05\n",
            "--------------------------------------sum---------------------------------------\n",
            "k = (10000,)\n",
            "49944 0.0006076140000033092\n",
            "--------------------------------------sum---------------------------------------\n",
            "k = (100000,)\n",
            "499752 0.0006766510000062453\n",
            "--------------------------------------sum---------------------------------------\n",
            "k = (1000000,)\n",
            "5001288 0.0007418199999875696\n",
            "--------------------------------------sum---------------------------------------\n"
          ]
        },
        {
          "output_type": "stream",
          "name": "stderr",
          "text": [
            "/usr/local/lib/python3.7/dist-packages/ipykernel_launcher.py:17: DeprecationWarning: This function is deprecated. Please call randint(0, 10 + 1) instead\n",
            "/usr/local/lib/python3.7/dist-packages/ipykernel_launcher.py:18: DeprecationWarning: This function is deprecated. Please call randint(0, 10 + 1) instead\n",
            "/usr/local/lib/python3.7/dist-packages/ipykernel_launcher.py:19: DeprecationWarning: This function is deprecated. Please call randint(0, 10 + 1) instead\n",
            "/usr/local/lib/python3.7/dist-packages/ipykernel_launcher.py:20: DeprecationWarning: This function is deprecated. Please call randint(0, 10 + 1) instead\n"
          ]
        }
      ]
    },
    {
      "cell_type": "code",
      "metadata": {
        "id": "bizoNhztae7E"
      },
      "source": [
        "TPB = 32\n",
        "\n",
        "@cuda.jit\n",
        "def dev_vec_sum(a, c):\n",
        "  sh_b = cuda.shared.array(TPB, int32)\n",
        "\n",
        "  thread_id = cuda.threadIdx.x\n",
        "  block_id = cuda.blockIdx.x\n",
        "  idx = thread_id + block_id * TPB\n",
        "  sh_b[thread_id] = 0\n",
        "\n",
        "  if idx < a.shape[0]:\n",
        "    sh_b[thread_id] = a[idx]\n",
        "    cuda.syncthreads()\n",
        "    if cuda.threadIdx.x == 0:\n",
        "      sum_of_arr = 0\n",
        "      for i in range(TPB):\n",
        "        sum_of_arr += sh_b[i]\n",
        "        \n",
        "      cuda.atomic.add(c, 0, sum_of_arr)\n",
        "\n",
        "def DeviceHost(a, c):\n",
        "    dev_a = cuda.to_device(a)\n",
        "    dev_c = cuda.to_device(c)\n",
        "    dev_vec_sum[TPB, TPB](dev_a, dev_c)\n",
        "    c = dev_c.copy_to_host()\n",
        "    return c"
      ],
      "execution_count": 2,
      "outputs": []
    },
    {
      "cell_type": "code",
      "metadata": {
        "id": "aIu3SC2gafAS"
      },
      "source": [
        "time_gpu = []\n",
        "\n",
        "\n",
        "def result_gpu(my_a):\n",
        "  for i in range(len(my_a)):\n",
        "    global end\n",
        "    start_time = timeit.default_timer() \n",
        "    DeviceHost(my_a[i], c1) # где с1 - результат суммирования\n",
        "    end = timeit.default_timer() - start_time\n",
        "    time_gpu.append(end)\n",
        "    print(time_gpu)\n",
        "    print('Расчёт на GPU: ')\n",
        "    print(end)\n",
        "    print(f'При размере вектора: {len(my_a[i])}')\n",
        "    print('--------------------------------')"
      ],
      "execution_count": 3,
      "outputs": []
    },
    {
      "cell_type": "code",
      "metadata": {
        "colab": {
          "base_uri": "https://localhost:8080/"
        },
        "id": "DZ3onlflQVKL",
        "outputId": "50e9e06a-195e-4db3-80fd-4444de2a547f"
      },
      "source": [
        "result_gpu(k)"
      ],
      "execution_count": 4,
      "outputs": [
        {
          "output_type": "stream",
          "name": "stdout",
          "text": [
            "[0.9704213969999955]\n",
            "Расчёт на GPU: \n",
            "0.9704213969999955\n",
            "При размере вектора: 1000\n",
            "--------------------------------\n",
            "[0.9704213969999955, 0.002879610000007915]\n",
            "Расчёт на GPU: \n",
            "0.002879610000007915\n",
            "При размере вектора: 10000\n",
            "--------------------------------\n",
            "[0.9704213969999955, 0.002879610000007915, 0.0028092390000011846]\n",
            "Расчёт на GPU: \n",
            "0.0028092390000011846\n",
            "При размере вектора: 100000\n",
            "--------------------------------\n",
            "[0.9704213969999955, 0.002879610000007915, 0.0028092390000011846, 0.005104399999993348]\n",
            "Расчёт на GPU: \n",
            "0.005104399999993348\n",
            "При размере вектора: 1000000\n",
            "--------------------------------\n"
          ]
        }
      ]
    },
    {
      "cell_type": "code",
      "metadata": {
        "colab": {
          "base_uri": "https://localhost:8080/",
          "height": 299
        },
        "id": "IPpPozeZXS_W",
        "outputId": "cdb3daa3-9322-4672-8f93-2fdf207cd498"
      },
      "source": [
        "plt.subplot(2, 1, 1)\n",
        "plt.plot(x, time_cpu, ':o')               \n",
        "plt.title(\"Время выполнения на CPU и GPU\") \n",
        "plt.ylabel(\"Time in CPU\", fontsize=14) \n",
        "plt.grid(True)                \n",
        "plt.subplot(2, 1, 2)\n",
        "\n",
        "plt.plot(x, time_gpu, ':o')               \n",
        "plt.xlabel(\"Размер вектора, в 10^6\", fontsize=14)  \n",
        "plt.ylabel(\"Time in GPU\", fontsize=14) \n",
        "plt.grid(True)  "
      ],
      "execution_count": 5,
      "outputs": [
        {
          "output_type": "display_data",
          "data": {
            "image/png": "[encoded data removed]",
            "text/plain": [
              "<Figure size 432x288 with 2 Axes>"
            ]
          },
          "metadata": {
            "needs_background": "light"
          }
        }
      ]
    },
    {
      "cell_type": "code",
      "metadata": {
        "colab": {
          "base_uri": "https://localhost:8080/"
        },
        "id": "gUcOdg-X0s5i",
        "outputId": "6843919c-cc0f-45d0-a19b-2352259b39ea"
      },
      "source": [
        "time_gpu"
      ],
      "execution_count": 6,
      "outputs": [
        {
          "output_type": "execute_result",
          "data": {
            "text/plain": [
              "[0.9704213969999955,\n",
              " 0.002879610000007915,\n",
              " 0.0028092390000011846,\n",
              " 0.005104399999993348]"
            ]
          },
          "metadata": {},
          "execution_count": 6
        }
      ]
    },
    {
      "cell_type": "code",
      "metadata": {
        "id": "wDvpUxBFN8-1"
      },
      "source": [
        "@cuda.jit\n",
        "def dev_vec_sum_no_host(a, c):\n",
        "  sh_b = cuda.shared.array(TPB, int32)\n",
        "\n",
        "  thread_id = cuda.threadIdx.x\n",
        "  block_id = cuda.blockIdx.x\n",
        "  idx = thread_id + block_id * TPB\n",
        "  sh_b[thread_id] = 0\n",
        "\n",
        "  if idx < a.shape[0]:\n",
        "    sh_b[thread_id] = a[idx]\n",
        "    cuda.syncthreads()\n",
        "    if cuda.threadIdx.x == 0:\n",
        "      sum_of_arr = 0\n",
        "      for i in range(TPB):\n",
        "        sum_of_arr += sh_b[i]\n",
        "        \n",
        "      cuda.atomic.add(c, 0, sum_of_arr)"
      ],
      "execution_count": 7,
      "outputs": []
    },
    {
      "cell_type": "code",
      "metadata": {
        "id": "zlDohD8mMEBO"
      },
      "source": [
        "time_gpu_no_host = []\n",
        "def DeviceHost_no_host(a, c):\n",
        "    global end1\n",
        "    dev_a = cuda.to_device(a)\n",
        "    dev_c = cuda.to_device(c)\n",
        "\n",
        "    start_time = timeit.default_timer() \n",
        "    dev_vec_sum_no_host[TPB, TPB](dev_a, dev_c)\n",
        "    end1 = timeit.default_timer() - start_time\n",
        "\n",
        "    time_gpu_no_host.append(end1)\n",
        "    print(time_gpu_no_host)\n",
        "    print('Расчёт на GPU без переноса на хост: ')\n",
        "    print(end1)\n",
        "    print(f'При размере вектора: {len(a)}')\n",
        "    print('--------------------------------')\n",
        "\n",
        "    c = dev_c.copy_to_host()"
      ],
      "execution_count": 8,
      "outputs": []
    },
    {
      "cell_type": "code",
      "metadata": {
        "id": "_Yhfs1yDMpAi"
      },
      "source": [
        "def result_gpu_no_hostcopy(my_a):\n",
        "  for i in range(len(my_a)):\n",
        "    DeviceHost_no_host(my_a[i], c1)"
      ],
      "execution_count": 10,
      "outputs": []
    },
    {
      "cell_type": "code",
      "metadata": {
        "colab": {
          "base_uri": "https://localhost:8080/"
        },
        "id": "z1htcAtDM1rr",
        "outputId": "0cb042ef-1a6a-474e-888e-15c8fc4bf479"
      },
      "source": [
        "result_gpu_no_hostcopy(k)"
      ],
      "execution_count": 11,
      "outputs": [
        {
          "output_type": "stream",
          "name": "stdout",
          "text": [
            "[0.2287371070000006]\n",
            "Расчёт на GPU без переноса на хост: \n",
            "0.2287371070000006\n",
            "При размере вектора: 1000\n",
            "--------------------------------\n",
            "[0.2287371070000006, 0.0005294580000168025]\n",
            "Расчёт на GPU без переноса на хост: \n",
            "0.0005294580000168025\n",
            "При размере вектора: 10000\n",
            "--------------------------------\n",
            "[0.2287371070000006, 0.0005294580000168025, 0.0003350389999923209]\n",
            "Расчёт на GPU без переноса на хост: \n",
            "0.0003350389999923209\n",
            "При размере вектора: 100000\n",
            "--------------------------------\n",
            "[0.2287371070000006, 0.0005294580000168025, 0.0003350389999923209, 0.00024218400000108886]\n",
            "Расчёт на GPU без переноса на хост: \n",
            "0.00024218400000108886\n",
            "При размере вектора: 1000000\n",
            "--------------------------------\n"
          ]
        }
      ]
    },
    {
      "cell_type": "code",
      "metadata": {
        "colab": {
          "base_uri": "https://localhost:8080/"
        },
        "id": "aBu0WQ9z01Ca",
        "outputId": "2767cc2c-5446-472c-c1df-aac6a6e13f62"
      },
      "source": [
        "time_gpu_no_host"
      ],
      "execution_count": 12,
      "outputs": [
        {
          "output_type": "execute_result",
          "data": {
            "text/plain": [
              "[0.2287371070000006,\n",
              " 0.0005294580000168025,\n",
              " 0.0003350389999923209,\n",
              " 0.00024218400000108886]"
            ]
          },
          "metadata": {},
          "execution_count": 12
        }
      ]
    },
    {
      "cell_type": "code",
      "metadata": {
        "colab": {
          "base_uri": "https://localhost:8080/",
          "height": 299
        },
        "id": "bEkC_3hlYtF0",
        "outputId": "31eda380-f95e-4e36-a88e-80723d12b24e"
      },
      "source": [
        "plt.subplot(2, 1, 1)\n",
        "plt.plot(x, time_cpu, ':o')               \n",
        "plt.title(\"Время выполнения на CPU и GPU\") \n",
        "plt.ylabel(\"Time in CPU\", fontsize=14) \n",
        "plt.grid(True)                \n",
        "plt.subplot(2, 1, 2)\n",
        "\n",
        "plt.plot(x, time_gpu_no_host, ':o')               \n",
        "plt.xlabel(\"Размер вектора, в 10^6\", fontsize=14)  \n",
        "plt.ylabel(\"Time in GPU\", fontsize=14) \n",
        "plt.grid(True) "
      ],
      "execution_count": 13,
      "outputs": [
        {
          "output_type": "display_data",
          "data": {
            "image/png": "[encoded data removed]",
            "text/plain": [
              "<Figure size 432x288 with 2 Axes>"
            ]
          },
          "metadata": {
            "needs_background": "light"
          }
        }
      ]
    },
    {
      "cell_type": "code",
      "metadata": {
        "colab": {
          "base_uri": "https://localhost:8080/"
        },
        "id": "0n0qe3nSPjEX",
        "outputId": "55eaf773-5b29-49b1-e25a-04adf48de3a5"
      },
      "source": [
        "time_gpu_no_host"
      ],
      "execution_count": 14,
      "outputs": [
        {
          "output_type": "execute_result",
          "data": {
            "text/plain": [
              "[0.2287371070000006,\n",
              " 0.0005294580000168025,\n",
              " 0.0003350389999923209,\n",
              " 0.00024218400000108886]"
            ]
          },
          "metadata": {},
          "execution_count": 14
        }
      ]
    },
    {
      "cell_type": "code",
      "metadata": {
        "colab": {
          "base_uri": "https://localhost:8080/"
        },
        "id": "-ibKhHAsafHF",
        "outputId": "ffd94708-2bf6-4f5f-9372-fa7e51fcf58f"
      },
      "source": [
        "result_gpu(k)"
      ],
      "execution_count": null,
      "outputs": [
        {
          "output_type": "stream",
          "name": "stdout",
          "text": [
            "Расчёт на GPU: \n",
            "0.003937530000257539\n",
            "При размере вектора: 1000\n",
            "--------------------------------\n",
            "Расчёт на GPU: \n",
            "0.004289985000468732\n",
            "При размере вектора: 10000\n",
            "--------------------------------\n",
            "Расчёт на GPU: \n",
            "0.005912063000323542\n",
            "При размере вектора: 100000\n",
            "--------------------------------\n",
            "Расчёт на GPU: \n",
            "0.004826651000257698\n",
            "При размере вектора: 1000000\n",
            "--------------------------------\n"
          ]
        }
      ]
    },
    {
      "cell_type": "code",
      "metadata": {
        "colab": {
          "base_uri": "https://localhost:8080/",
          "height": 335
        },
        "id": "MIvsIpBZCnsH",
        "outputId": "6e17643c-abdf-4ebd-e212-8314ee111ba9"
      },
      "source": [
        "fig = plt.figure(figsize=(7, 4))\n",
        "plt.grid()\n",
        "\n",
        "ax = fig.add_subplot()\n",
        "\n",
        "ax.plot(x, time_cpu, ':o')\n",
        "ax.plot(x, time_gpu, ':o')\n",
        "ax.plot(x, time_gpu_no_host, ':o')\n",
        "plt.show()"
      ],
      "execution_count": 15,
      "outputs": [
        {
          "output_type": "stream",
          "name": "stderr",
          "text": [
            "/usr/local/lib/python3.7/dist-packages/ipykernel_launcher.py:4: MatplotlibDeprecationWarning: Adding an axes using the same arguments as a previous axes currently reuses the earlier instance.  In a future version, a new instance will always be created and returned.  Meanwhile, this warning can be suppressed, and the future behavior ensured, by passing a unique label to each axes instance.\n",
            "  after removing the cwd from sys.path.\n"
          ]
        },
        {
          "output_type": "display_data",
          "data": {
            "image/png": "[encoded data removed]",
            "text/plain": [
              "<Figure size 504x288 with 1 Axes>"
            ]
          },
          "metadata": {
            "needs_background": "light"
          }
        }
      ]
    },
    {
      "cell_type": "code",
      "metadata": {
        "colab": {
          "base_uri": "https://localhost:8080/",
          "height": 175
        },
        "id": "rxMmPmku0HMS",
        "outputId": "bc6dd8d7-fad7-4480-feb0-8638b81e39a0"
      },
      "source": [
        "compar_pd = pd.DataFrame({'GPU': [time_gpu[0], time_gpu[1], time_gpu[2], time_gpu[3]], 'CPU': [time_cpu[0], time_cpu[1], time_cpu[2], time_cpu[3]], 'GPU no host': [time_gpu_no_host[0], time_gpu_no_host[1], time_gpu_no_host[2], time_gpu_no_host[3]] }, index = [x1, x2, x3, x4] )\n",
        "compar_pd"
      ],
      "execution_count": 16,
      "outputs": [
        {
          "output_type": "execute_result",
          "data": {
            "text/html": [
              "<div>\n",
              "<style scoped>\n",
              "    .dataframe tbody tr th:only-of-type {\n",
              "        vertical-align: middle;\n",
              "    }\n",
              "\n",
              "    .dataframe tbody tr th {\n",
              "        vertical-align: top;\n",
              "    }\n",
              "\n",
              "    .dataframe thead th {\n",
              "        text-align: right;\n",
              "    }\n",
              "</style>\n",
              "<table border=\"1\" class=\"dataframe\">\n",
              "  <thead>\n",
              "    <tr style=\"text-align: right;\">\n",
              "      <th></th>\n",
              "      <th>GPU</th>\n",
              "      <th>CPU</th>\n",
              "      <th>GPU no host</th>\n",
              "    </tr>\n",
              "  </thead>\n",
              "  <tbody>\n",
              "    <tr>\n",
              "      <th>1000</th>\n",
              "      <td>0.970421</td>\n",
              "      <td>0.000052</td>\n",
              "      <td>0.228737</td>\n",
              "    </tr>\n",
              "    <tr>\n",
              "      <th>10000</th>\n",
              "      <td>0.002880</td>\n",
              "      <td>0.000608</td>\n",
              "      <td>0.000529</td>\n",
              "    </tr>\n",
              "    <tr>\n",
              "      <th>100000</th>\n",
              "      <td>0.002809</td>\n",
              "      <td>0.000677</td>\n",
              "      <td>0.000335</td>\n",
              "    </tr>\n",
              "    <tr>\n",
              "      <th>1000000</th>\n",
              "      <td>0.005104</td>\n",
              "      <td>0.000742</td>\n",
              "      <td>0.000242</td>\n",
              "    </tr>\n",
              "  </tbody>\n",
              "</table>\n",
              "</div>"
            ],
            "text/plain": [
              "              GPU       CPU  GPU no host\n",
              "1000     0.970421  0.000052     0.228737\n",
              "10000    0.002880  0.000608     0.000529\n",
              "100000   0.002809  0.000677     0.000335\n",
              "1000000  0.005104  0.000742     0.000242"
            ]
          },
          "metadata": {},
          "execution_count": 16
        }
      ]
    }
  ]
}