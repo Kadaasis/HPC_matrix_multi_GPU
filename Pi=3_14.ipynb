{
  "nbformat": 4,
  "nbformat_minor": 0,
  "metadata": {
    "colab": {
      "name": "Pi=3.14.ipynb",
      "provenance": [],
      "collapsed_sections": []
    },
    "kernelspec": {
      "name": "python3",
      "display_name": "Python 3"
    },
    "language_info": {
      "name": "python"
    },
    "accelerator": "GPU"
  },
  "cells": [
    {
      "cell_type": "code",
      "metadata": {
        "id": "meWP8_udwuxu"
      },
      "source": [
        "from datetime import datetime\n",
        "import numpy as np\n",
        "from numba import cuda\n",
        "from tabulate import tabulate\n",
        "import matplotlib.pyplot as plt\n",
        "\n",
        "from numba.cuda.random import create_xoroshiro128p_states, xoroshiro128p_uniform_float32 \n",
        "# внутри видеокарты создавать рандомные списки"
      ],
      "execution_count": 8,
      "outputs": []
    },
    {
      "cell_type": "code",
      "metadata": {
        "id": "c6lE3P_Vw7Ft"
      },
      "source": [
        "TPB = 16\n",
        "count_iter = 16\n"
      ],
      "execution_count": 9,
      "outputs": []
    },
    {
      "cell_type": "code",
      "metadata": {
        "id": "jrj1u4i6w86V"
      },
      "source": [
        "'''\n",
        "  Подсчёт числа Пи на CPU\n",
        "  Смысл:\n",
        "    Используется метод Монтекарло, через квадрат и вписанной окружности\n",
        "    Мы создаем случайные X,Y размером от 0 до 1.\n",
        "    Если сумма квадратов X и Y меньше или равно 1, то она в досигаемости центра\n",
        "    А если больше, то она лежит за пределеами круга.\n",
        "    Создаём такое некое количесвто и умножаем на 4 (по кол-ву секторов)\n",
        "    А затем делим на их количество, N - обшее кол-во точек\n",
        "'''\n",
        "\n",
        "def Calcul_on_CPU(count_iter, N):\n",
        "    res = np.zeros(count_iter)\n",
        "    for i in range(count_iter):\n",
        "        x = np.random.uniform(size=N)\n",
        "        y = np.random.uniform(size=N)\n",
        "        z = x ** 2 + y ** 2 <= 1\n",
        "        res[i] = 4.0 * sum(z) / N\n",
        "    return res"
      ],
      "execution_count": 10,
      "outputs": []
    },
    {
      "cell_type": "code",
      "metadata": {
        "id": "3_obHWDUw-1d"
      },
      "source": [
        "@cuda.jit \n",
        "def pi_calcul(res, rng):\n",
        "  i = cuda.blockIdx.x * cuda.blockDim.x + cuda.threadIdx.x\n",
        "  #выделяем сетку в CUDA\n",
        "  h = 0 #кол-во точек лежащих внутри круга\n",
        "  if i < len(rng):\n",
        "    x = xoroshiro128p_uniform_float32(rng, i)\n",
        "    y = xoroshiro128p_uniform_float32(rng, i)\n",
        "    # создаём в CUDA свои случайные X,Y \n",
        "    if x ** 2 + y ** 2 <= 1.0:\n",
        "      h += 1\n",
        "  cuda.atomic.add(res, 0, h)\n",
        "  #res засовываем в h"
      ],
      "execution_count": 11,
      "outputs": []
    },
    {
      "cell_type": "code",
      "metadata": {
        "id": "DimXqhz8xCNk"
      },
      "source": [
        "def Calcul_on_GPU(N):\n",
        "\n",
        "  rng_states = create_xoroshiro128p_states(N, seed=1)\n",
        "  #создаём спец.переменную, которая будет помогать создавать\n",
        "  #списки внутри CUDA, прописывается заранее на CPU, а затем передаётся на GPU\n",
        "  \n",
        "  #CUDA не может сама создать списки, но\n",
        "  #но rng будет внутренней переменной в GPU и тогда сможет\n",
        "  #то есть это спец.переменная позволяющая это сделать\n",
        "  res = [0] # результирующая\n",
        "\n",
        "  dev_res = cuda.to_device(res)#загружаем в GPU\n",
        "  pi_calcul[N, TPB](dev_res, rng_states)\n",
        "  tmp_ = dev_res.copy_to_host()# потом выводим на CPU\n",
        "  pi_ = 4 * tmp_[0] / N\n",
        "  return pi_"
      ],
      "execution_count": 12,
      "outputs": []
    },
    {
      "cell_type": "code",
      "metadata": {
        "id": "Mz0luaSJxC01"
      },
      "source": [
        "def main(iter_ , N):\n",
        "  #Эксперименты на CPU и GPU\n",
        "  for i in range(iter_):\n",
        "    print(\"Номер итерации:\" + str(i+1))\n",
        "    start = datetime.now()\n",
        "    cpu_pi = Calcul_on_CPU(count_iter, N).mean()\n",
        "    print(\"Время выполения на CPU - \"+ str(datetime.now()- start))\n",
        "    print(\"Число Pi - \" + str(cpu_pi))\n",
        "    start = datetime.now()\n",
        "    gpu_pi = Calcul_on_GPU(N)\n",
        "    print(\"Время выполения на GPU - \"+ str(datetime.now()- start))\n",
        "    print(\"Число Pi - \" + str(gpu_pi))\n",
        "    print(\"\")\n",
        "    N = N + 10000\n",
        "  return None"
      ],
      "execution_count": 13,
      "outputs": []
    },
    {
      "cell_type": "code",
      "metadata": {
        "colab": {
          "base_uri": "https://localhost:8080/"
        },
        "id": "fE5TzU1KxEkP",
        "outputId": "0ef6b571-23b2-406f-8a28-2accd749b8e8"
      },
      "source": [
        "\n",
        "\n",
        "main(5, 10000)\n",
        "\n"
      ],
      "execution_count": 14,
      "outputs": [
        {
          "output_type": "stream",
          "name": "stdout",
          "text": [
            "Номер итерации:1\n",
            "Время выполения на CPU - 0:00:00.379006\n",
            "Число Pi - 3.1504\n",
            "Время выполения на GPU - 0:00:00.199388\n",
            "Число Pi - 3.1552\n",
            "\n",
            "Номер итерации:2\n",
            "Время выполения на CPU - 0:00:00.767045\n",
            "Число Pi - 3.1431\n",
            "Время выполения на GPU - 0:00:00.007479\n",
            "Число Pi - 3.1578\n",
            "\n",
            "Номер итерации:3\n",
            "Время выполения на CPU - 0:00:01.113933\n",
            "Число Pi - 3.1424666666666665\n",
            "Время выполения на GPU - 0:00:00.011508\n",
            "Число Pi - 3.1508\n",
            "\n",
            "Номер итерации:4\n",
            "Время выполения на CPU - 0:00:01.484555\n",
            "Число Pi - 3.1427250000000004\n",
            "Время выполения на GPU - 0:00:00.018254\n",
            "Число Pi - 3.1471\n",
            "\n",
            "Номер итерации:5\n",
            "Время выполения на CPU - 0:00:01.850575\n",
            "Число Pi - 3.14401\n",
            "Время выполения на GPU - 0:00:00.016778\n",
            "Число Pi - 3.14304\n",
            "\n"
          ]
        }
      ]
    }
  ]
}